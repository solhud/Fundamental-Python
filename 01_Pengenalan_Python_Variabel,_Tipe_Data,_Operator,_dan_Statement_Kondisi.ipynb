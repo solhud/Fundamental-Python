{
  "nbformat": 4,
  "nbformat_minor": 0,
  "metadata": {
    "anaconda-cloud": {},
    "kernelspec": {
      "display_name": "Python [default]",
      "language": "python",
      "name": "python2"
    },
    "language_info": {
      "codemirror_mode": {
        "name": "ipython",
        "version": 2
      },
      "file_extension": ".py",
      "mimetype": "text/x-python",
      "name": "python",
      "nbconvert_exporter": "python",
      "pygments_lexer": "ipython2",
      "version": "2.7.12"
    },
    "colab": {
      "name": "01. Pengenalan Python - Variabel, Tipe Data, Operator, dan Statement Kondisi.ipynb",
      "provenance": []
    }
  },
  "cells": [
    {
      "cell_type": "markdown",
      "metadata": {
        "id": "2LiZqlIv-ZLY",
        "colab_type": "text"
      },
      "source": [
        "1. Menjalankan sintaks dasar python\n",
        "2. Mengenal variabel dan menggunakan variabel\n",
        "3. Jenis-jenis tipe data dalam python\n",
        "4. Jenis-jenis operator\n",
        "5. operator aritmetika, assignment, perbandingan, serta logika \n",
        "6. Memahami algoritma dari statement kondisi\n",
        "7. Dapat menggunakan statement kondisi dalam kasus pemrograman"
      ]
    },
    {
      "cell_type": "markdown",
      "metadata": {
        "id": "vbr7zCp4-ZLc",
        "colab_type": "text"
      },
      "source": [
        "## Hello World !"
      ]
    },
    {
      "cell_type": "code",
      "metadata": {
        "id": "pBe5mjrN-ZLf",
        "colab_type": "code",
        "colab": {},
        "outputId": "749b74f1-735d-474a-d402-6115d6685bd8"
      },
      "source": [
        "print(\"Hello World\")"
      ],
      "execution_count": 0,
      "outputs": [
        {
          "output_type": "stream",
          "text": [
            "Hello World\n"
          ],
          "name": "stdout"
        }
      ]
    },
    {
      "cell_type": "markdown",
      "metadata": {
        "id": "w7SKlDOn-ZLz",
        "colab_type": "text"
      },
      "source": [
        "### Variabel \n",
        "Variabel adalah tempat menyimpan nilai sementara. Berikut adalah cara mendeklarasikan, menginisialisasi **variabel** dan *memanggil* variabel dalam python:\n",
        "\n",
        "* Point pertama\n",
        "* Point kedua\n",
        "* Point ketiga\n"
      ]
    },
    {
      "cell_type": "code",
      "metadata": {
        "id": "bj9OQ1dG-ZL2",
        "colab_type": "code",
        "colab": {
          "base_uri": "https://localhost:8080/",
          "height": 35
        },
        "outputId": "e572a7c3-accc-44b7-ca28-1afcda7a3fd9"
      },
      "source": [
        "nama = \"Muhammad Sholihul Huda\"\n",
        "\n",
        "print(nama)"
      ],
      "execution_count": 1,
      "outputs": [
        {
          "output_type": "stream",
          "text": [
            "Muhammad Sholihul Huda\n"
          ],
          "name": "stdout"
        }
      ]
    },
    {
      "cell_type": "markdown",
      "metadata": {
        "id": "4_a3TJja-ZMC",
        "colab_type": "text"
      },
      "source": [
        "Nilai dalam variabel dapat diubah sewaktu waktu"
      ]
    },
    {
      "cell_type": "code",
      "metadata": {
        "id": "7_j6-ArG-ZMF",
        "colab_type": "code",
        "colab": {
          "base_uri": "https://localhost:8080/",
          "height": 35
        },
        "outputId": "52ef9183-499e-4582-b3a6-621349868a7c"
      },
      "source": [
        "nama = \"Muhammad Sholihul\"\n",
        "nama = \"Huda\"\n",
        "\n",
        "print(nama)"
      ],
      "execution_count": 2,
      "outputs": [
        {
          "output_type": "stream",
          "text": [
            "Huda\n"
          ],
          "name": "stdout"
        }
      ]
    },
    {
      "cell_type": "markdown",
      "metadata": {
        "id": "ZhVfzTj3-ZMU",
        "colab_type": "text"
      },
      "source": [
        "Kita juga bisa memberikan beberapa nilai pada variabel secara langsung"
      ]
    },
    {
      "cell_type": "code",
      "metadata": {
        "id": "p7hVGgnx-ZMW",
        "colab_type": "code",
        "colab": {
          "base_uri": "https://localhost:8080/",
          "height": 70
        },
        "outputId": "7f380b2a-b7cf-42c7-9f94-a8ee68a29c7d"
      },
      "source": [
        "a, b, c = 5, 3.2, \"Hello\"\n",
        "\n",
        "print (a)\n",
        "print (b)\n",
        "print (c)"
      ],
      "execution_count": 3,
      "outputs": [
        {
          "output_type": "stream",
          "text": [
            "5\n",
            "3.2\n",
            "Hello\n"
          ],
          "name": "stdout"
        }
      ]
    },
    {
      "cell_type": "code",
      "metadata": {
        "id": "Z7osgcGp-ZMh",
        "colab_type": "code",
        "colab": {
          "base_uri": "https://localhost:8080/",
          "height": 70
        },
        "outputId": "899543e7-c861-4940-b64b-b2dcfb2d5421"
      },
      "source": [
        "x = y = z = \"podo\"\n",
        "\n",
        "print (x)\n",
        "print (y)\n",
        "print (z)"
      ],
      "execution_count": 4,
      "outputs": [
        {
          "output_type": "stream",
          "text": [
            "podo\n",
            "podo\n",
            "podo\n"
          ],
          "name": "stdout"
        }
      ]
    },
    {
      "cell_type": "markdown",
      "metadata": {
        "id": "kANLbfCd-ZMy",
        "colab_type": "text"
      },
      "source": [
        "## TIPE DATA\n",
        "Dalam setiap nilai di variabel, terdapat sebuah tipe data tertentu. Pada python, terdapat beberapa tipe data:\n",
        "\n",
        "- Numbers\n",
        "- Strings\n",
        "- Boolean\n",
        "- List\n",
        "- Tuple\n",
        "- Set\n",
        "- Dictionary"
      ]
    },
    {
      "cell_type": "markdown",
      "metadata": {
        "id": "5hI5K9WA-ZM0",
        "colab_type": "text"
      },
      "source": [
        "### Numbers\n",
        "- Integer : Angka tanpa koma\n",
        "- Float : Angka dengan Koma"
      ]
    },
    {
      "cell_type": "code",
      "metadata": {
        "id": "i3ljun0N-ZM4",
        "colab_type": "code",
        "colab": {
          "base_uri": "https://localhost:8080/",
          "height": 52
        },
        "outputId": "e92c049c-0092-4cf2-ec9e-eb996646cda7"
      },
      "source": [
        "a = 5\n",
        "print(a, \"mempunyai tipe\", type(a))\n",
        "\n",
        "a = 5.0\n",
        "print(a, \"mempunyai tipe\", type(a))"
      ],
      "execution_count": 5,
      "outputs": [
        {
          "output_type": "stream",
          "text": [
            "(5, 'mempunyai tipe', <type 'int'>)\n",
            "(5.0, 'mempunyai tipe', <type 'float'>)\n"
          ],
          "name": "stdout"
        }
      ]
    },
    {
      "cell_type": "markdown",
      "metadata": {
        "id": "3Q7STn8x-ZNG",
        "colab_type": "text"
      },
      "source": [
        "### Boolean\n",
        "Benar atau Salah?"
      ]
    },
    {
      "cell_type": "code",
      "metadata": {
        "id": "cBL0KOGA-ZNJ",
        "colab_type": "code",
        "colab": {
          "base_uri": "https://localhost:8080/",
          "height": 52
        },
        "outputId": "e9db19b2-ecfa-4ae1-a8b8-d4f540a027e5"
      },
      "source": [
        "a = 5>6\n",
        "print(a, \"mempunyai tipe\", type(a))\n",
        "\n",
        "a = 6>5\n",
        "print(a, \"mempunyai tipe\", type(a))"
      ],
      "execution_count": 6,
      "outputs": [
        {
          "output_type": "stream",
          "text": [
            "(False, 'mempunyai tipe', <type 'bool'>)\n",
            "(True, 'mempunyai tipe', <type 'bool'>)\n"
          ],
          "name": "stdout"
        }
      ]
    },
    {
      "cell_type": "markdown",
      "metadata": {
        "id": "hp6eemTb-ZNU",
        "colab_type": "text"
      },
      "source": [
        "### String\n",
        "Kumpulan karakter"
      ]
    },
    {
      "cell_type": "code",
      "metadata": {
        "id": "5fxvTPgZ-ZNW",
        "colab_type": "code",
        "colab": {
          "base_uri": "https://localhost:8080/",
          "height": 35
        },
        "outputId": "7e4026c7-131b-4e2e-bbdc-92bc58797326"
      },
      "source": [
        "a = \"Ini adalah sebuah string\"\n",
        "print(a, \"mempunyai tipe\", type(a))"
      ],
      "execution_count": 7,
      "outputs": [
        {
          "output_type": "stream",
          "text": [
            "('Ini adalah sebuah string', 'mempunyai tipe', <type 'str'>)\n"
          ],
          "name": "stdout"
        }
      ]
    },
    {
      "cell_type": "markdown",
      "metadata": {
        "id": "8Nj3VoQk-ZNj",
        "colab_type": "text"
      },
      "source": [
        "### List & Tuple & Dictionary\n",
        "dibahas minggu depan"
      ]
    },
    {
      "cell_type": "markdown",
      "metadata": {
        "id": "hoS-G2Vk-ZNl",
        "colab_type": "text"
      },
      "source": [
        "## Operator"
      ]
    },
    {
      "cell_type": "markdown",
      "metadata": {
        "id": "kJx2bfA1-ZNn",
        "colab_type": "text"
      },
      "source": [
        "### 1. Operator Aritmetika\n",
        "\n",
        "| Operator | Arti                                                                                          | Contoh                  |\n",
        "|----------|--------------------------------------------------------------------------------------------------|--------------------------|\n",
        "| +        | Penambahan                                                                   | x + y                 |\n",
        "| -        | Pengurangan                                              | x - y                  |\n",
        "| *        | Perkalian                                                                            | x * y                    |\n",
        "| /        | Pembagian                                 | x / y                    |\n",
        "| %        | Modulo - Sisa Pembagian                                 | x % y (sisa pembagian of x/y) |\n",
        "| //       | Pembagian dan dibulatkan ke bawah | x // y                   |\n",
        "| **       | Eksponen - Pangkat                                             | x**y (x pangkat y)  |"
      ]
    },
    {
      "cell_type": "code",
      "metadata": {
        "id": "zQvmOfk_-ZNq",
        "colab_type": "code",
        "colab": {
          "base_uri": "https://localhost:8080/",
          "height": 35
        },
        "outputId": "29589544-8b6d-45d9-a4a0-071f155a2546"
      },
      "source": [
        "x = 5\n",
        "y = 4\n",
        "\n",
        "print((x+y)*(x+y))\n"
      ],
      "execution_count": 8,
      "outputs": [
        {
          "output_type": "stream",
          "text": [
            "81\n"
          ],
          "name": "stdout"
        }
      ]
    },
    {
      "cell_type": "markdown",
      "metadata": {
        "id": "pxfJ1syZ-ZN6",
        "colab_type": "text"
      },
      "source": [
        "### 2. Operator Assignment\n",
        "Pemberian Nilai, Updating Nilai"
      ]
    },
    {
      "cell_type": "code",
      "metadata": {
        "id": "cC9YkGiy-ZN8",
        "colab_type": "code",
        "colab": {
          "base_uri": "https://localhost:8080/",
          "height": 70
        },
        "outputId": "ff61afcc-da5b-4abf-81e2-eb275826382a"
      },
      "source": [
        "a = 5\n",
        "b = 2\n",
        "a = a + 6\n",
        "print(a)\n",
        "a = a * 5\n",
        "print(a)\n",
        "a = b + 3\n",
        "print(a)"
      ],
      "execution_count": 9,
      "outputs": [
        {
          "output_type": "stream",
          "text": [
            "11\n",
            "55\n",
            "5\n"
          ],
          "name": "stdout"
        }
      ]
    },
    {
      "cell_type": "markdown",
      "metadata": {
        "id": "QJbPcwhU-ZOI",
        "colab_type": "text"
      },
      "source": [
        "![alt text](https://www.freeiconspng.com/uploads/book-store-icon-31.png \"Bookstore\")\n",
        "\n",
        "## LATIHAN\n",
        "\n",
        "\n",
        "#### Pada keluaran buku terbaru, Harry Potter harga buku adalah Rp 100.000, tetapi toko buku mendapatkan diskon 40%. Pengiriman biaya Rp 9.000 untuk salinan pertama dan Rp 3.000 untuk setiap salinan tambahan. Berapa total biaya keseluruhan untuk pengiriman buku 60 eksemplar?"
      ]
    },
    {
      "cell_type": "code",
      "metadata": {
        "id": "w9Yj1LIB-ZOK",
        "colab_type": "code",
        "colab": {
          "base_uri": "https://localhost:8080/",
          "height": 35
        },
        "outputId": "eeca4968-1176-43c2-8654-486bd5724daf"
      },
      "source": [
        "harga_buku = 500000\n",
        "diskon = 20.0\n",
        "ongkir_pertama = 9000\n",
        "ongkir_selanjutnya = 3000\n",
        "eksemplar = 10\n",
        "\n",
        "harga_setelah_diskon = harga_buku * (100-diskon)/100\n",
        "harga_ongkir = ongkir_pertama + ongkir_selanjutnya * (eksemplar-1)\n",
        "harga_total = harga_setelah_diskon * eksemplar + harga_ongkir\n",
        "\n",
        "print(harga_total)"
      ],
      "execution_count": 10,
      "outputs": [
        {
          "output_type": "stream",
          "text": [
            "4036000.0\n"
          ],
          "name": "stdout"
        }
      ]
    },
    {
      "cell_type": "markdown",
      "metadata": {
        "id": "KRUqveSi-ZOT",
        "colab_type": "text"
      },
      "source": [
        "### 3. Operator Perbandingan\n",
        "| Operator | Meaning                 | Example |\n",
        "|----------|-------------------------|---------|\n",
        "| >        | Lebih Dari              | x > y   |\n",
        "| <        | Kurang Dari             | x < y   |\n",
        "| ==       | Sama Dengan             | x == y  |\n",
        "| !=       | Tidak Sam Dengan        | x != y  |\n",
        "| >=       | Lebih dari sama dengan  | x >= y  |\n",
        "| <=       | Kurang dari sama dengan | x <= y  |"
      ]
    },
    {
      "cell_type": "code",
      "metadata": {
        "id": "veI5nATT-ZOW",
        "colab_type": "code",
        "colab": {
          "base_uri": "https://localhost:8080/",
          "height": 124
        },
        "outputId": "d320518d-90f0-4202-9056-e3a55aa6bf71"
      },
      "source": [
        "x = 10\n",
        "y = 12\n",
        "\n",
        "print('x > y  is',x>y)\n",
        "\n",
        "print('x < y  is',x<y)\n",
        "\n",
        "print('x == y is',x==y)\n",
        "\n",
        "print('x != y is',x!=y)\n",
        "\n",
        "print('x >= y is',x>=y)\n",
        "\n",
        "print('x <= y is',x<=y)"
      ],
      "execution_count": 11,
      "outputs": [
        {
          "output_type": "stream",
          "text": [
            "('x > y  is', False)\n",
            "('x < y  is', True)\n",
            "('x == y is', False)\n",
            "('x != y is', True)\n",
            "('x >= y is', False)\n",
            "('x <= y is', True)\n"
          ],
          "name": "stdout"
        }
      ]
    },
    {
      "cell_type": "markdown",
      "metadata": {
        "id": "sWrJ5JiY-ZOf",
        "colab_type": "text"
      },
      "source": [
        "### 4. Operator Logika\n",
        "\n",
        "| Operator | Keterangan                         | Contoh  |\n",
        "|----------|------------------------------------|---------|\n",
        "| and      | True jika keduanya True            | x and y |\n",
        "| or       | True jika salah satunya True       | x or y  |\n",
        "| not      | not False = True; not True = False | not x   |"
      ]
    },
    {
      "cell_type": "code",
      "metadata": {
        "id": "zyC9JMwe-ZOh",
        "colab_type": "code",
        "colab": {
          "base_uri": "https://localhost:8080/",
          "height": 70
        },
        "outputId": "b92df3f9-5213-4474-db78-6aabf22b404f"
      },
      "source": [
        "x = 5 == 5\n",
        "y = 1 > 2\n",
        "\n",
        "\n",
        "print('x and y is',x and y)\n",
        "\n",
        "print('x or y is',x or y)\n",
        "\n",
        "print('not x is',not x)"
      ],
      "execution_count": 12,
      "outputs": [
        {
          "output_type": "stream",
          "text": [
            "('x and y is', False)\n",
            "('x or y is', True)\n",
            "('not x is', False)\n"
          ],
          "name": "stdout"
        }
      ]
    },
    {
      "cell_type": "markdown",
      "metadata": {
        "id": "ToesK65j-ZOq",
        "colab_type": "text"
      },
      "source": [
        "# Statement Kondisi / Percabangan\n",
        "Dalam pembuatan program, seringkali kita memiliki kondisi, jika..maka, contohnya: jika nilai hasil ujian > 90, maka calon peserta digital talent berhak mengikuti program beasiswa. Kondisi seperti ini dapat digambarkan dengan Flowchart seperti dibawah ini:"
      ]
    },
    {
      "cell_type": "markdown",
      "metadata": {
        "id": "BaoBq_Ry-ZOs",
        "colab_type": "text"
      },
      "source": [
        "![alt text](https://cdn.programiz.com/sites/tutorial2program/files/Python_if_statement.jpg \"If Statement\")\n"
      ]
    },
    {
      "cell_type": "markdown",
      "metadata": {
        "id": "ow9HHyO3-ZOu",
        "colab_type": "text"
      },
      "source": [
        "Berikut adalah sintaks dari kode program kondisional / percabangan.\n",
        "Perhatikan Indentasi yang ada pada sintaks tersebut."
      ]
    },
    {
      "cell_type": "code",
      "metadata": {
        "id": "PkhuqCyW-ZOw",
        "colab_type": "code",
        "colab": {
          "base_uri": "https://localhost:8080/",
          "height": 35
        },
        "outputId": "46d7f9d6-e5af-43f0-e4fe-47e35bd18def"
      },
      "source": [
        "nilai = 8 # Coba dirubah menjadi 80\n",
        "if nilai>90:\n",
        "    print(\"Lulus\")\n",
        "    print(\"Selamat\")\n",
        "    \n",
        "print(\"Program Selesai\")"
      ],
      "execution_count": 13,
      "outputs": [
        {
          "output_type": "stream",
          "text": [
            "Program Selesai\n"
          ],
          "name": "stdout"
        }
      ]
    },
    {
      "cell_type": "markdown",
      "metadata": {
        "id": "owb9qSwL-ZO9",
        "colab_type": "text"
      },
      "source": [
        "Dalam bahasa pemrograman Python, Indentasi sangatlah penting untuk menentukan blok kode sebuah program.\n",
        "\n",
        "Selanjutnya, terdapat bentuk yang sedikit lebih kompleks, yaitu dengan menggunakan else:"
      ]
    },
    {
      "cell_type": "markdown",
      "metadata": {
        "id": "GUgiKvhi-ZPB",
        "colab_type": "text"
      },
      "source": [
        "![alt text](https://cdn.programiz.com/sites/tutorial2program/files/Python_if_else_statement.jpg \"If Else Statement\")"
      ]
    },
    {
      "cell_type": "code",
      "metadata": {
        "id": "3-rDG86U-ZPE",
        "colab_type": "code",
        "colab": {
          "base_uri": "https://localhost:8080/",
          "height": 52
        },
        "outputId": "1becb20b-d7da-4d7b-b01b-2962722b920c"
      },
      "source": [
        "nilai = 80 \n",
        "if nilai>90:\n",
        "    print(\"Lulus\")\n",
        "    print(\"Selamat\")\n",
        "else:\n",
        "    print(\"Maaf Anda Belum Berhasil\")\n",
        "    \n",
        "print(\"Program Selesai\")"
      ],
      "execution_count": 14,
      "outputs": [
        {
          "output_type": "stream",
          "text": [
            "Maaf Anda Belum Berhasil\n",
            "Program Selesai\n"
          ],
          "name": "stdout"
        }
      ]
    },
    {
      "cell_type": "markdown",
      "metadata": {
        "id": "tWuYQ-Re-ZPP",
        "colab_type": "text"
      },
      "source": [
        "Jika terdapat lebih dari satu kondisi dapat menggunakan elif (else if):"
      ]
    },
    {
      "cell_type": "markdown",
      "metadata": {
        "id": "5JAY46qq-ZPQ",
        "colab_type": "text"
      },
      "source": [
        "![alt text](https://cdn.programiz.com/sites/tutorial2program/files/Python_if_elif_else_statement.jpg \"If Else If Statement\")\n"
      ]
    },
    {
      "cell_type": "code",
      "metadata": {
        "id": "zp1vm6tj-ZPS",
        "colab_type": "code",
        "colab": {
          "base_uri": "https://localhost:8080/",
          "height": 52
        },
        "outputId": "0d43928e-56be-47da-df9a-f93b9665d4fc"
      },
      "source": [
        "nilai = 85 \n",
        "if nilai>=90:\n",
        "    print(\"Lulus\")\n",
        "    print(\"Selamat\")\n",
        "elif nilai>80:\n",
        "    print(\"Anda masuk ke waiting list\")\n",
        "else:\n",
        "    print(\"Maaf Anda Belum Berhasil\")\n",
        "    \n",
        "print(\"Program Selesai\")"
      ],
      "execution_count": 15,
      "outputs": [
        {
          "output_type": "stream",
          "text": [
            "Anda masuk ke waiting list\n",
            "Program Selesai\n"
          ],
          "name": "stdout"
        }
      ]
    },
    {
      "cell_type": "markdown",
      "metadata": {
        "id": "jAcFA0eN-ZPd",
        "colab_type": "text"
      },
      "source": [
        "Percabangan juga bisa disarangkan pada percabangan, contoh:"
      ]
    },
    {
      "cell_type": "code",
      "metadata": {
        "id": "0LKLjzIH-ZPe",
        "colab_type": "code",
        "colab": {
          "base_uri": "https://localhost:8080/",
          "height": 52
        },
        "outputId": "e50c99db-9e00-4e97-9b43-ca81064592f0"
      },
      "source": [
        "nilai = 95\n",
        "umur = 10\n",
        "\n",
        "if nilai>90:\n",
        "    if umur > 17:\n",
        "        print(\"Selamat Anda Berhak Mengikuti Program Beasiswa\")\n",
        "    else:\n",
        "        print(\"Maaf, Anda belum berhak mengikuti program beasiswa\")\n",
        "else:\n",
        "    print(\"Maaf Anda Belum Berhasil\")\n",
        "    \n",
        "print(\"Program Selesai\")"
      ],
      "execution_count": 16,
      "outputs": [
        {
          "output_type": "stream",
          "text": [
            "Maaf, Anda belum berhak mengikuti program beasiswa\n",
            "Program Selesai\n"
          ],
          "name": "stdout"
        }
      ]
    },
    {
      "cell_type": "markdown",
      "metadata": {
        "id": "ms1wYWkq-ZPl",
        "colab_type": "text"
      },
      "source": [
        "![alt text](https://cdn.iconscout.com/icon/free/png-256/human-body-458026.png \"Body\")"
      ]
    },
    {
      "cell_type": "markdown",
      "metadata": {
        "id": "i9eFH0ja-ZPm",
        "colab_type": "text"
      },
      "source": [
        "## LATIHAN\n",
        "\n",
        "\n",
        "Body Mass Index (BMI) menentukan sebuah keidealan berat badan terhadap tinggi badan. Berikut adalah formula dari BMI : BMI = weight (kg) ÷ height^2 (m^2)\n",
        "\n",
        "Berikut adalah kategorisasi BMI\n",
        "\n",
        "| BMI                 | Kategori BMI             |   |\n",
        "|---------------------|---------------------------|---|\n",
        "| Kurang dari 15        | Very severely underweight |   |\n",
        "| Diantara 15 dan 16   | Severely underweight      |   |\n",
        "| Diantara 16 dan 18.5 | Underweight               |   |\n",
        "| Diantara 18.5 dan 25 | Normal (healthy weight)   |   |\n",
        "| Diantara 25 dan 30   | Overweight                |   |\n",
        "| Diantara 30 dan 35   | Moderately obese          |   |\n",
        "| Diantara 35 dan 40   | Severely obese            |   |\n",
        "| Over 40             | Very severely obese       |   |\n",
        "\n",
        "Buatlah sebuah program yang memiliki dua variabel berat badan dengan satuan KG, dan tinggi badan dengan satuan CM, kemudian keluaran dari program adalah Kategori BMI"
      ]
    }
  ]
}